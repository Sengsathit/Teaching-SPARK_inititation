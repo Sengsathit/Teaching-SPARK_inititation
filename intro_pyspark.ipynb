{
 "cells": [
  {
   "cell_type": "markdown",
   "id": "54f63150",
   "metadata": {},
   "source": [
    "![SPARK_PYSPARK](img/spark_pyspark.jpeg)"
   ]
  },
  {
   "cell_type": "markdown",
   "id": "a877b0ab",
   "metadata": {},
   "source": [
    "# 💫 Apache Spark : le moteur du Big Data moderne"
   ]
  },
  {
   "cell_type": "markdown",
   "id": "7b4419d5",
   "metadata": {},
   "source": [
    "Le **Big Data** désigne des volumes de données trop grands pour être traités sur une seule machine.\n",
    "Historiquement, on utilisait **Hadoop MapReduce**, mais celui-ci lisait et écrivait souvent sur disque → lent.\n",
    "\n",
    "**Apache Spark** est né pour répondre à ce problème.\n",
    "- **Traitement en mémoire (RAM)** → bien plus rapide\n",
    "- **API haut niveau** (SQL, DataFrame, MLlib, etc.)\n",
    "- **Multi-langages** : Scala, Java, Python (PySpark), R\n",
    "\n",
    "Spark repose sur une architecture driver / executors.\n",
    "- **Driver** : programme principal. Gère le plan d’exécution et collecte les résultats\n",
    "- **Cluster Manager** : alloue les ressources (CPU, RAM) aux tâches Spark (YARN, Kubernetes, Standalone…)\n",
    "- **Executors** : exécutent les tâches sur les partitions de données.\n",
    "\n",
    "Spark distribue automatiquement les données et le calcul sur plusieurs machines."
   ]
  },
  {
   "cell_type": "markdown",
   "id": "c5a2174d",
   "metadata": {},
   "source": [
    "# ✨ PySpark : l’interface Python de Spark"
   ]
  },
  {
   "cell_type": "markdown",
   "id": "93533013",
   "metadata": {},
   "source": [
    "**PySpark** est l’interface de programmation en Python pour Apache Spark.\\\n",
    "Elle permet d’utiliser la puissance du moteur Spark tout en restant dans un environnement familier pour les développeurs Python.\n",
    "\n",
    "Concrètement :\n",
    "- Le code écrit en Python est traduit en instructions que le moteur Spark exécute sur le cluster.\n",
    "- L’exécution réelle ne se fait pas dans le processus Python, mais dans la JVM de Spark (Java Virtual Machine).\n",
    "- Cette communication passe par l’API Py4J, une passerelle entre Python et Java.\n",
    "\n",
    "Ainsi, PySpark combine :\n",
    "- la simplicité du Python (syntaxe, intégration avec pandas, notebooks, etc.)\n",
    "- la scalabilité de Spark, capable de traiter des téraoctets de données sur des centaines de noeuds."
   ]
  },
  {
   "cell_type": "markdown",
   "id": "7cfea9e4",
   "metadata": {},
   "source": [
    "# ⌨️ Hands-On"
   ]
  },
  {
   "cell_type": "markdown",
   "id": "26dd3bff",
   "metadata": {},
   "source": [
    "**Objectifs**  \n",
    "- Comprendre comment démarrer une `SparkSession` en local  \n",
    "- Manipuler des DataFrames PySpark (lecture, inspection, transformations)  \n",
    "- Comprendre `lazy evaluation`, `action`, `job / stage / task`  \n",
    "- Sauvegarder/relire des données (CSV, Parquet)"
   ]
  },
  {
   "cell_type": "markdown",
   "id": "615a17a9",
   "metadata": {},
   "source": [
    "## 1. Démarrer Spark en local"
   ]
  },
  {
   "cell_type": "markdown",
   "id": "aa260e35",
   "metadata": {},
   "source": [
    "Avant de pouvoir manipuler des données avec PySpark, il faut créer une session Spark.\\\n",
    "Cette session est le point d’entrée principal vers toutes les fonctionnalités de Spark (lecture de données, SQL, transformations, machine learning, etc.).\n",
    "\n",
    "En pratique, on la crée à l’aide de la classe **SparkSession** qui permet de configurer et d’initialiser le moteur Spark.\\\n",
    "Une fois cette cellule exécutée, Spark démarre un contexte local et affiche des informations dans la console.\n",
    "C’est le signe que le driver est prêt à exécuter des tâches et à communiquer avec d’éventuels executors."
   ]
  },
  {
   "cell_type": "code",
   "execution_count": null,
   "id": "7036a41a",
   "metadata": {},
   "outputs": [],
   "source": [
    "from pyspark.sql import SparkSession\n",
    "\n",
    "spark = SparkSession.builder \\\n",
    "    .appName(\"IntroSparkLocal\") \\\n",
    "    .master(\"local[*]\") \\\n",
    "    .getOrCreate()\n",
    "\n",
    "# SparkSession.builder crée un objet constructeur pour définir les paramètres de la session.\n",
    "# .appName(\"IntroSparkLocal\") définit un nom d’application visible dans l’interface Spark (utile pour identifier ton job).\n",
    "# .master(\"local[*]\") indique le mode d’exécution :\n",
    "#       - local signifie que le calcul se fera sur la machine locale.\n",
    "#       - [*] indique que Spark utilisera tous les cœurs CPU disponibles.\n",
    "# .getOrCreate() crée une nouvelle session Spark si elle n’existe pas encore, ou récupère celle déjà active."
   ]
  },
  {
   "cell_type": "markdown",
   "id": "ac97a8ca",
   "metadata": {},
   "source": [
    "Aussi, Spark démarre une interface web accessible à l’adresse suivante : http://localhost:4040\n",
    "\n",
    "Cette interface permet de :\n",
    "- visualiser les jobs Spark en cours ou terminés\n",
    "- consulter les stages et tasks\n",
    "- analyser les plans d’exécution\n",
    "- suivre l’utilisation des ressources locales (mémoire, CPU)\n",
    "\n",
    "### 🧭 Exploration recommandée\n",
    "\n",
    "Ouvrir l’URL http://localhost:4040 dans le navigateur.\n",
    "Parcourir les différentes sections pour comprendre comment Spark gère un traitement distribué :\n",
    "- Jobs : résumé des traitements lancés,\n",
    "- Stages : décomposition logique des jobs,\n",
    "- Tasks : exécution concrète sur les partitions de données,\n",
    "- Storage : aperçu du cache et des données en mémoire.\n",
    "\n",
    "Prendre quelques minutes pour parcourir cette interface avant de continuer car elle aidera à visualiser ce qui se passe “sous le capot” à chaque fois qu'une opération est exécutée dans PySpark."
   ]
  },
  {
   "cell_type": "markdown",
   "id": "26041953",
   "metadata": {},
   "source": [
    "## 2. Charger le dataset de test :  `employees.csv`"
   ]
  },
  {
   "cell_type": "markdown",
   "id": "1cba23d9",
   "metadata": {},
   "source": [
    "Pour travailler concrètement avec Spark, nous allons charger un petit dataset de test nommé `employees.csv`.\\\n",
    "Ce fichier contient des informations simples sur des employés : identifiant, nom, âge, département, salaire et années d’expérience.\n",
    "\n",
    "Dans PySpark, la lecture d’un fichier CSV s’effectue via la méthode `spark.read.csv()`.\n",
    "Cette méthode renvoie un **DataFrame Spark,** c’est-à-dire une **structure tabulaire distribuée** (semblable à un tableau SQL ou à un DataFrame Pandas, mais répartie sur plusieurs noeuds)."
   ]
  },
  {
   "cell_type": "code",
   "execution_count": null,
   "id": "d8c346cc",
   "metadata": {},
   "outputs": [],
   "source": [
    "# Charge le fichier csv\n",
    "# header=True indique que la première ligne contient les noms des colonnes\n",
    "# inferSchema=True demande à Spark de déduire automatiquement les types de données sinon toutes les colonnes seraient lues comme des chaînes de caractères\n",
    "df = spark.read.csv(\"./data/employees.csv\", header=True, inferSchema=True)\n",
    "\n",
    "# Affiche la structure (schéma) du DataFrame, c’est-à-dire les noms de colonnes et leurs types \n",
    "df.printSchema()"
   ]
  },
  {
   "cell_type": "markdown",
   "id": "39c9b474",
   "metadata": {},
   "source": [
    "🔍 **Détaillons ce qu’il se passe en arrière-plan.**\n",
    "\n",
    "Lors de la lecture du CSV :\n",
    "1. Le driver Spark reçoit la requête de lecture du fichier csv. Il construit un plan logique pour lire le fichier CSV. Le plan logique est une représentation interne (sous forme d’un graphe `DAG`) qui décrit les étapes nécessaires pour obtenir le résultat final : *\"quel fichier lire\"*, *\"avec quel format (ici CSV)\"*, *\"quelles colonnes ou types de données\"*, *\"quelles transformations appliquer (filtres, jointures, agrégations, etc.)\"*\\\n",
    "Mais à ce stade, **rien n’est encore exécuté**. Spark se contente de noter l’**intention du programme**.\n",
    "2. Quand une action est déclenchée (.show(), .count(), etc.), le driver envoie les tâches aux executors.\n",
    "3. Les executors lisent réellement les données (leurs partitions), exécutent les transformations, et renvoient leurs résultats partiels au driver. (En mode local, les executors sont simplement des threads dans le même processus JVM que le driver.)\n",
    "4. Le driver agrège ces résultats et les renvoie au programme Python.\n",
    "\n",
    "Même pour un petit CSV local, le mécanisme est le même que sur un cluster : Spark applique toujours un modèle distribué. Cela rend le passage à grande échelle quasiment transparent pour le code."
   ]
  },
  {
   "cell_type": "markdown",
   "id": "8143eb8c",
   "metadata": {},
   "source": [
    "### 2.1. Inspection de base"
   ]
  },
  {
   "cell_type": "markdown",
   "id": "69bbd41e",
   "metadata": {},
   "source": [
    "Avant de transformer les données, il est souvent utile de vérifier la structure du DataFrame.\\\n",
    "L'opération est immédiate : elle interroge seulement les métadonnées du DataFrame (pas les données elles-mêmes)."
   ]
  },
  {
   "cell_type": "code",
   "execution_count": null,
   "id": "d642b9b6",
   "metadata": {},
   "outputs": [],
   "source": [
    "df.columns"
   ]
  },
  {
   "cell_type": "markdown",
   "id": "27f14370",
   "metadata": {},
   "source": [
    "### 2.2. Lazy Evaluation"
   ]
  },
  {
   "cell_type": "markdown",
   "id": "5b274929",
   "metadata": {},
   "source": [
    "⚠️ Contrairement à df.columns, les instructions suivantes déclenchent des actions Spark.\\\n",
    "Le moteur Spark exécute réellement des jobs distribués pour lire les données, parcourir toutes les partitions et agréger les résultats partiels.\n",
    "\n",
    "🔍 **Détaillons ce qu’il se passe en arrière-plan.**\n",
    "- `df.count()` parcourt l’ensemble du DataFrame pour compter le nombre de lignes. Pour cela : \\\n",
    "Spark crée un job composé de plusieurs stages et tasks, chacun exécuté par les executors sur une partition de données.\\\n",
    "Une fois terminées, les executors envoient leurs résultats partiels (leurs counts locaux) au driver.\\\n",
    "Le driver additionne ces valeurs pour obtenir le compte global du DataFrame,\n",
    "puis renvoie le résultat final au programme Python.\n",
    "- `df.show(5)` demande à Spark d’afficher les 5 premières lignes du DataFrame.\n",
    "Cela nécessite de lire physiquement les données (au moins partiellement) → Spark déclenche donc aussi un job distribué."
   ]
  },
  {
   "cell_type": "code",
   "execution_count": null,
   "id": "9f1b68bf",
   "metadata": {},
   "outputs": [],
   "source": [
    "display(df.count())\n",
    "display(df.show(5))"
   ]
  },
  {
   "cell_type": "markdown",
   "id": "fefe8c5b",
   "metadata": {},
   "source": [
    "## 3. Sélections, filtres, tris"
   ]
  },
  {
   "cell_type": "markdown",
   "id": "aa72d7d2",
   "metadata": {},
   "source": [
    "Dans Spark, les DataFrames offrent une interface haut niveau pour manipuler les données de manière déclarative, un peu comme en SQL.\n",
    "Les opérations de sélection, filtrage et tri sont des transformations qui **ne modifient pas les données originales** : elles produisent de **nouveaux DataFrames**.\n",
    "\n",
    "💡 Chaque transformation crée un nouveau plan logique dans Spark (**aucune lecture ou exécution réelle n’a lieu** tant qu’une action, comme .show() ou .count(), n’est pas appelée).\\\n",
    "Ainsi, même un simple tri ou filtre suit la même logique de planification distribuée que sur un cluster."
   ]
  },
  {
   "cell_type": "code",
   "execution_count": null,
   "id": "c940c857",
   "metadata": {},
   "outputs": [],
   "source": [
    "from pyspark.sql.functions import col\n",
    "\n",
    "# Sélection de colonnes\n",
    "df_sel = df.select(\"name\", \"age\", \"department\")\n",
    "df_sel.show(5)\n",
    "\n",
    "# Filtres\n",
    "employees_filtered = df_sel.filter(col(\"age\") >= 30) # Ne conserver que les employés d'un certain âge\n",
    "employees_filtered = employees_filtered.orderBy(col(\"age\").desc())\n",
    "employees_filtered.show(5)"
   ]
  },
  {
   "cell_type": "markdown",
   "id": "d44eb34f",
   "metadata": {},
   "source": [
    "### 3.1. Spark SQL"
   ]
  },
  {
   "cell_type": "markdown",
   "id": "e4f5d1ad",
   "metadata": {},
   "source": [
    "Il est possible d’écrire directement du ***SQL*** grâce à ***Spark SQL***, un module intégré à Apache Spark qui permet d’interroger les données via des requêtes SQL standard.\\\n",
    "Pour cela, il suffit d’enregistrer un DataFrame comme vue temporaire à l’aide de `createOrReplaceTempView()`. Cette vue agit comme une table virtuelle accessible uniquement durant la session en cours.\\\n",
    "On peut ensuite exécuter des requêtes SQL sur cette vue avec la méthode `spark.sql()`, comme dans l’exemple ci-dessous, qui fait exactement la même chose que le job précédent."
   ]
  },
  {
   "cell_type": "code",
   "execution_count": null,
   "id": "5167daaa",
   "metadata": {},
   "outputs": [],
   "source": [
    "# Création ou remplacement d'une vue temporaire à partir du DataFrame\n",
    "df.createOrReplaceTempView(\"employees\")\n",
    "\n",
    "# Requête SQL exécutée via Spark SQL\n",
    "result = spark.sql(\"\"\"\n",
    "    SELECT department,\n",
    "           AVG(salary) AS avg_salary\n",
    "    FROM employees\n",
    "    GROUP BY department\n",
    "\"\"\")\n",
    "\n",
    "# Affichage du résultat\n",
    "result.show()"
   ]
  },
  {
   "cell_type": "markdown",
   "id": "a1282cc7",
   "metadata": {},
   "source": [
    "### 🧩 Exercices"
   ]
  },
  {
   "cell_type": "markdown",
   "id": "9e0c7eb1",
   "metadata": {},
   "source": [
    "> Essayez de modifier et d’expérimenter :\n",
    "> - sélectionnez d’autres colonnes avec .select().\n",
    "> - changez la condition du filtre (age < 25, department == \"HR\", etc.).\n",
    "> - triez par une autre colonne, ou combinez plusieurs tris\n",
    "> - ajoutez plusieurs conditions avec les opérateurs logiques `&` (et), `|` (ou)"
   ]
  },
  {
   "cell_type": "code",
   "execution_count": null,
   "id": "56366188",
   "metadata": {},
   "outputs": [],
   "source": [
    "# Votre code ici"
   ]
  },
  {
   "cell_type": "markdown",
   "id": "40267154",
   "metadata": {},
   "source": [
    "> Pensez à tester aussi Spark SQL dans cet exercice."
   ]
  },
  {
   "cell_type": "code",
   "execution_count": null,
   "id": "e5f67979",
   "metadata": {},
   "outputs": [],
   "source": [
    "# Votre code ici"
   ]
  },
  {
   "cell_type": "markdown",
   "id": "c5f0b16c",
   "metadata": {},
   "source": [
    "## 4. Nettoyage des données"
   ]
  },
  {
   "cell_type": "markdown",
   "id": "8bdd20a9",
   "metadata": {},
   "source": [
    "Dans Spark, nous pouvons appliquer des fonctions de transformation directement sur les colonnes d’un DataFrame de manière distribuée.\n",
    "\n",
    "Dans l’exemple ci-dessous :\n",
    "- nous normalisons les noms de département\n",
    "- nous traitons les valeurs manquantes\n",
    "\n",
    "💡 Ces opérations sont aussi \"lazy\" : elles ne modifient pas les données tant qu’aucune action n’est exécutée."
   ]
  },
  {
   "cell_type": "code",
   "execution_count": null,
   "id": "d0494223",
   "metadata": {},
   "outputs": [],
   "source": [
    "from pyspark.sql.functions import when, trim, upper\n",
    "\n",
    "# Normaliser le nom du département: trim + upper\n",
    "df_sel = df\n",
    "df_clean = df_sel.withColumn(\"department_norm\", upper(trim(col(\"department\"))))\n",
    "\n",
    "# Gérer les valeurs manquantes d'âge et de salaire\n",
    "df_clean = df_clean.withColumn(\"age\", when(col(\"age\").isNull(), 0).otherwise(col(\"age\")))\n",
    "df_clean = df_clean.na.fill({\"salary\": 0.0})\n",
    "\n",
    "df_clean.select(\"employee_id\",\"name\",\"department\",\"department_norm\",\"age\",\"salary\").show(5)"
   ]
  },
  {
   "cell_type": "markdown",
   "id": "a8b29190",
   "metadata": {},
   "source": [
    "### 4.1. Créer des colonnes calculées"
   ]
  },
  {
   "cell_type": "markdown",
   "id": "74ddfdbf",
   "metadata": {},
   "source": [
    "La préparation des données consiste aussi à créer de nouvelles colonnes dérivées à partir des colonnes existantes.\\\n",
    "Dans Spark, cela se fait avec la méthode `withColumn()`, qui permet d’ajouter une colonne calculée sans modifier le DataFrame original.\n",
    "\n",
    "👉 Si le nom de colonne existe déjà, la colonne est remplacée (écrasée) par la nouvelle version.\\\n",
    "👉 Si le nom n’existe pas, une nouvelle colonne est simplement ajoutée au DataFrame, c'est le cas dans l'exemple suivant."
   ]
  },
  {
   "cell_type": "code",
   "execution_count": null,
   "id": "7ec38bd0",
   "metadata": {},
   "outputs": [],
   "source": [
    "from pyspark.sql.functions import avg\n",
    "\n",
    "# Catégoriser les revenus\n",
    "df_feat = df_clean.withColumn(\n",
    "    \"salary_band\",\n",
    "    when(col(\"salary\") < 3000, \"LOW\").when(col(\"salary\") < 6000, \"MID\").otherwise(\"HIGH\")\n",
    ")\n",
    "\n",
    "df_feat.show(5)\n"
   ]
  },
  {
   "cell_type": "markdown",
   "id": "a8df1868",
   "metadata": {},
   "source": [
    "## 5. Regroupement et agrégation"
   ]
  },
  {
   "cell_type": "markdown",
   "id": "a148e099",
   "metadata": {},
   "source": [
    "La phase d’agrégation permet de résumer, regrouper et interpréter les informations issues de grands volumes de données.\\\n",
    "Avec PySpark, ces opérations s’effectuent facilement grâce aux fonctions de groupement (`groupBy`), de comptage (`count`), et d’agrégation (`agg`)."
   ]
  },
  {
   "cell_type": "code",
   "execution_count": null,
   "id": "3c5d0372",
   "metadata": {},
   "outputs": [],
   "source": [
    "# Nombre d'employés par catégorie de revenus\n",
    "df_feat\\\n",
    "    .groupBy(\"salary_band\")\\\n",
    "    .count()\\\n",
    "    .orderBy(col(\"count\").desc())\\\n",
    "    .show()"
   ]
  },
  {
   "cell_type": "code",
   "execution_count": null,
   "id": "90d19134",
   "metadata": {},
   "outputs": [],
   "source": [
    "from pyspark.sql.functions import round as sround\n",
    "\n",
    "# Analyse des salaires moyens par département \n",
    "dept_stats = df_feat\\\n",
    "                .groupBy(\"department_norm\")\\\n",
    "                .agg(sround(avg(\"salary\"),2).alias(\"avg_salary\"))\\\n",
    "                .orderBy(col(\"avg_salary\").desc())\n",
    "\n",
    "dept_stats.show()\n"
   ]
  },
  {
   "cell_type": "markdown",
   "id": "71204139",
   "metadata": {},
   "source": [
    "### 🧩 Exercices"
   ]
  },
  {
   "cell_type": "markdown",
   "id": "68501691",
   "metadata": {},
   "source": [
    "> Comment Spark découpe les transformations ci-dessus en **stages** ?  \n",
    "> Ouvrez l'onglet **SQL / DAG** dans l'UI Spark puis analysez les informations présentées.\n"
   ]
  },
  {
   "cell_type": "markdown",
   "id": "9729eaa9",
   "metadata": {},
   "source": [
    "## 6. Sauvegarde de résultats (CSV / Parquet)"
   ]
  },
  {
   "cell_type": "markdown",
   "id": "a0a9d300",
   "metadata": {},
   "source": [
    "Une fois les traitements réalisés nous pouvons sauvegarder les résultats pour les réutiliser ou les partager.\\\n",
    "PySpark permet d’écrire facilement un DataFrame dans différents formats, notamment CSV et Parquet (format binaire optimisé pour le Big Data).\n",
    "\n",
    "- Le format CSV est universel mais peu efficace sur de gros volumes, car il ne conserve pas les types de données.\n",
    "- Le format Parquet, lui, conserve le schéma, compresse les données et accélère les lectures : il est donc privilégié dans les environnements distribués.\n",
    "\n",
    "### 🔎 Format Parquet\n",
    "Pour aller plus loin concernant le format Parquet, voici quelques ressources :\n",
    "- 📘 [Documentation officielle Apache Parquet](https://parquet.apache.org/docs/)  \n",
    "- 🎥 [Qu’est-ce qu'une base de données orientée colonne ?](https://www.youtube.com/watch?v=1MnvuNg33pA)"
   ]
  },
  {
   "cell_type": "code",
   "execution_count": null,
   "id": "7bf2ffd8",
   "metadata": {},
   "outputs": [],
   "source": [
    "# Écriture en CSV (dossier de sortie partitionné)\n",
    "dept_stats.write.mode(\"overwrite\").csv(\"./outputs/dept_stats_csv\")\n",
    "\n",
    "# Écriture en Parquet (conserve le schéma, plus efficace)\n",
    "dept_stats.write.mode(\"overwrite\").parquet(\"./outputs/dept_stats_parquet\")\n",
    "\n",
    "# Relecture du Parquet\n",
    "reloaded = spark.read.parquet(\"./outputs/dept_stats_parquet\")\n",
    "reloaded.printSchema()\n",
    "reloaded.show()\n"
   ]
  },
  {
   "cell_type": "markdown",
   "id": "aa168a38",
   "metadata": {},
   "source": [
    "## 7. RDD (Resilient Distributed Dataset)"
   ]
  },
  {
   "cell_type": "markdown",
   "id": "66ed253e",
   "metadata": {},
   "source": [
    "Jusqu’à présent, vous avez manipulé des **DataFrames** : une interface structurée, avec des colonnes nommées, des types de données, et des opérations familières (sélection, groupBy, agg, etc.).\\\n",
    "Les DataFrames sont très pratiques, car ils permettent d’écrire du code lisible et optimisé grâce au moteur **Catalyst** de Spark.\n",
    "\n",
    "Mais sous cette interface haut niveau se cache la brique fondamentale de Spark : le **RDD (Resilient Distributed Dataset)**.\\\n",
    "Comprendre ce concept vous permettra de mieux saisir comment Spark distribue, exécute et reconstruit vos données à grande échelle.\n",
    "\n",
    "Un RDD est une collection d’objets distribuée à travers le cluster Spark.\n",
    "- **Resilient** : il peut être reconstruit automatiquement en cas de panne.\n",
    "- **Distributed** : les données sont découpées en partitions réparties sur plusieurs nœuds.\n",
    "- **Dataset** : c’est simplement un ensemble d’éléments (lignes, objets, etc.).\n",
    "\n",
    "Autrement dit, un RDD est une collection répartie sur plusieurs machines, que Spark sait manipuler en parallèle."
   ]
  },
  {
   "cell_type": "markdown",
   "id": "87e92668",
   "metadata": {},
   "source": [
    "### 7.1. Manipulation de base"
   ]
  },
  {
   "cell_type": "code",
   "execution_count": null,
   "id": "e2d483ca",
   "metadata": {},
   "outputs": [],
   "source": [
    "sc = spark.sparkContext\n",
    "\n",
    "# Exemple d'un RDD à partir d’une liste locale\n",
    "# Spark crée un RDD contenant ces 5 éléments.\n",
    "rdd = sc.parallelize([1, 2, 3, 4, 5])"
   ]
  },
  {
   "cell_type": "code",
   "execution_count": null,
   "id": "8fd7d09c",
   "metadata": {},
   "outputs": [],
   "source": [
    "# Rien n’est exécuté tant qu’on ne déclenche pas une action\n",
    "display(rdd.collect())"
   ]
  },
  {
   "cell_type": "code",
   "execution_count": null,
   "id": "dd8cfe0b",
   "metadata": {},
   "outputs": [],
   "source": [
    "# On peut transformer les données\n",
    "rdd2 = rdd.map(lambda x: x * 2)\n",
    "display(rdd2.collect())"
   ]
  },
  {
   "cell_type": "markdown",
   "id": "190466d3",
   "metadata": {},
   "source": [
    "#### 🧩 Exercices"
   ]
  },
  {
   "cell_type": "markdown",
   "id": "4800e6b8",
   "metadata": {},
   "source": [
    "> Soit la liste de produits :\n",
    "\n",
    "```bash\n",
    "ventes = [\n",
    "    (\"chaise\", 200),\n",
    "    (\"table\", 450),\n",
    "    (\"lampe\", 100),\n",
    "    (\"chaise\", 150),\n",
    "    (\"table\", 300),\n",
    "    (\"lampe\", 80)\n",
    "]\n",
    "```\n",
    "\n",
    "> - Créez un RDD à partir de cette liste.\n",
    "> - Récupérez les produits dont le prix dépasse 100€\n",
    "> - Calculez le CA total par produit (possible d'utiliser .reduceByKey())\n",
    "> - Triez par CA décroissant (possible d'utiliser .sortBy())"
   ]
  },
  {
   "cell_type": "code",
   "execution_count": null,
   "id": "17c66290",
   "metadata": {},
   "outputs": [],
   "source": [
    "# Votre code ici"
   ]
  },
  {
   "cell_type": "markdown",
   "id": "38f2d38c",
   "metadata": {},
   "source": [
    "### 7.2. Manipulation de fichiers"
   ]
  },
  {
   "cell_type": "code",
   "execution_count": null,
   "id": "40e185b5",
   "metadata": {},
   "outputs": [],
   "source": [
    "# Spark permet de lire et de manipuler des fichiers sous forme de RDD.\n",
    "employees_rdd = sc.textFile(\"./data/employees.csv\")\n",
    "employees_rdd.collect()"
   ]
  },
  {
   "cell_type": "markdown",
   "id": "ee7d0cd4",
   "metadata": {},
   "source": [
    "#### 🧩 Exercices"
   ]
  },
  {
   "cell_type": "markdown",
   "id": "785a82dd",
   "metadata": {},
   "source": [
    "> Ne récupérer que les employés du département IT.\\\n",
    "> Indice : .map(), .filter(), .split()\n",
    "\n",
    "```bash\n",
    "Exemple :\n",
    "\n",
    "[['22', 'Alice Bernard', '33.0', 'IT', '6231.15', '10'],\n",
    " ['32', 'Hugo Girard', '58.0', 'IT', '8616.31', '20'],\n",
    " ['40', 'Emma Morel', '42.0', 'IT', '6115.84', '10'],\n",
    " ['72', 'Tom Petit', '41.0', 'IT', '5449.79', '7'],\n",
    " ['83', 'Ines Durand', '54.0', 'IT', '7555.4', '13']]\n",
    " ```"
   ]
  },
  {
   "cell_type": "code",
   "execution_count": null,
   "id": "370f5298",
   "metadata": {},
   "outputs": [],
   "source": [
    "# Votre code ici"
   ]
  },
  {
   "cell_type": "markdown",
   "id": "4a966c69",
   "metadata": {},
   "source": [
    "## 8. Approfondir"
   ]
  },
  {
   "cell_type": "markdown",
   "id": "a1d240ea",
   "metadata": {},
   "source": [
    "Ce notebook propose une **introduction pratique** à Apache Spark et PySpark.  \n",
    "Il ne couvre pas toutes les subtilités du framework, notamment celles liées à l’**optimisation des performances**, la **gestion des clusters**, ou les **fonctionnalités avancées**, MLlib, ou Structured Streaming.  \n",
    "\n",
    "Pour compléter votre apprentissage, il est **fortement recommandé de poursuivre l’exploration** à travers d'autres ressources.\\\n",
    "Il existe **de nombreuses ressources de qualité disponibles en ligne**, il suffit de chercher un peu pour trouver des explications, tutoriels et exemples adaptés à votre niveau.\n",
    "\n",
    "L’objectif de cet approfondissement est de comprendre Apache Spark dans son contexte Big Data, non pas comme un simple outil, mais comme une évolution et une réponse aux limites de Hadoop.\n",
    "Il s’agit d’identifier les différences d’architecture, de performance et de paradigme de calcul, tout en comprenant comment ces deux technologies peuvent coexister et se compléter.\n",
    "\n",
    "#### Axes d'approfondissement\n",
    "> Architecture de Spark\n",
    "- Rôles du Driver, des Executors et du Cluster Manager\n",
    "- Traitement en mémoire et exécution des DAG (Directed Acyclic Graph)\n",
    "- Modes d’exécution : Local vs Cluster\n",
    "\n",
    "> Comparaison Hadoop / Spark\n",
    "- Stockage : HDFS et compatibilité avec Spark\n",
    "- Gestion des ressources : rôle de YARN\n",
    "- Modèle de calcul : batch vs in-memory\n",
    "\n",
    "> Écosystème et usages\n",
    "- Modules : Spark SQL, MLlib, Streaming, GraphX\n",
    "\n",
    "\n",
    "#### Ressources officielles\n",
    "- [Documentation officielle de Spark](https://spark.apache.org/docs/latest/) — la source principale pour comprendre les modules (SQL, MLlib, Streaming, GraphX).  \n",
    "- [API PySpark sur spark.apache.org](https://spark.apache.org/docs/latest/api/python/) — référence complète des fonctions disponibles.  \n",
    "- [Apache Spark sur GitHub](https://github.com/apache/spark) — pour explorer le code source et les évolutions du projet.  \n",
    "\n",
    "#### Tutoriels et cours gratuits\n",
    "- [Spark Tutorial (DataCamp)](https://www.datacamp.com/tutorial/pyspark-tutorial-getting-started-with-pyspark) — bonnes bases pour pratiquer avec PySpark.  \n",
    "- [YouTube – “Apache Spark Full Course” by Simplilearn](https://www.youtube.com/watch?v=_C8kWso4ne4) — formation vidéo complète et vulgarisée.   "
   ]
  }
 ],
 "metadata": {
  "kernelspec": {
   "display_name": ".venv",
   "language": "python",
   "name": "python3"
  },
  "language_info": {
   "codemirror_mode": {
    "name": "ipython",
    "version": 3
   },
   "file_extension": ".py",
   "mimetype": "text/x-python",
   "name": "python",
   "nbconvert_exporter": "python",
   "pygments_lexer": "ipython3",
   "version": "3.12.11"
  }
 },
 "nbformat": 4,
 "nbformat_minor": 5
}
